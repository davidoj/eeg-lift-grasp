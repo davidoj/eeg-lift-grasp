{
 "cells": [
  {
   "cell_type": "markdown",
   "metadata": {},
   "source": [
    "#Logistic Regression classifier\n",
    "\n",
    "Classifying data with logit regression."
   ]
  },
  {
   "cell_type": "code",
   "execution_count": 1,
   "metadata": {
    "collapsed": false
   },
   "outputs": [],
   "source": [
    "import numpy as np\n",
    "import pandas as pd\n",
    "\n",
    "from scipy.signal import butter, lfilter\n",
    "\n",
    "from sklearn.linear_model import LogisticRegression\n",
    "from sklearn.preprocessing import StandardScaler\n",
    "from sklearn.metrics import roc_auc_score\n",
    "from sklearn.cross_validation import LeaveOneLabelOut\n",
    "from sklearn.decomposition import PCA\n",
    "\n",
    "from glob import glob\n",
    "\n",
    "from mne.io import RawArray\n",
    "from mne.channels import read_montage\n",
    "from mne.epochs import concatenate_epochs\n",
    "from mne import create_info, find_events, Epochs, concatenate_raws, pick_types\n",
    "from mne.decoding import CSP\n",
    "\n",
    "from joblib import Parallel, delayed\n",
    "\n",
    "import os\n",
    "\n",
    "\n",
    " \n",
    "#############function to read data###########\n",
    "\n",
    "def prepare_data_train(fname):\n",
    "    \"\"\" read and prepare training data \"\"\"\n",
    "    # Read data\n",
    "    data = pd.read_csv(fname)\n",
    "    # events file\n",
    "    events_fname = fname.replace('_data','_events')\n",
    "    # read event file\n",
    "    labels= pd.read_csv(events_fname)\n",
    "    clean=data.drop(['id' ], axis=1)#remove id\n",
    "    labels=labels.drop(['id' ], axis=1)#remove id\n",
    "    return  clean,labels\n",
    "\n",
    "def prepare_data_test(fname):\n",
    "    \"\"\" read and prepare test data \"\"\"\n",
    "    # Read data\n",
    "    data = pd.read_csv(fname)\n",
    "    return data\n",
    "\n",
    "scaler= StandardScaler()\n",
    "nfilters = 4\n",
    "csp = CSP(n_components=nfilters, reg='lws')\n",
    "def data_preprocess_train(X, events=[], sca=None, cpast=None, bpass=None, \n",
    "                          lpass=None, pca=None, csp_filt=None):\n",
    "    if csp_filt:\n",
    "        fit_CSP(data, events)\n",
    "        X = (csp.filters_[0:nfilters].dot(X.T)).T\n",
    "    X = np.array(X)\n",
    "    if pca:\n",
    "        X = X.dot(pca.components_.T)\n",
    "    if bpass:\n",
    "        X = butter_bandpass_filter(X,bpass[0],bpass[1],500)\n",
    "    if lpass:\n",
    "        X = butter_lowpass_filter(X,lpass,500)\n",
    "    if sca:\n",
    "        X=scaler.fit_transform(X)\n",
    "    if cpast:\n",
    "        X = concat_past(X,interval=cpast[0],num_past=cpast[1])\n",
    "    return X\n",
    "\n",
    "def data_preprocess_test(X,sca=None, cpast=None, bpass=None, lpass=None, pca=None, csp_filt=None):\n",
    "    if csp_filt:\n",
    "        X = (csp.filters_[0:nfilters].dot(X.T)).T\n",
    "    X = np.array(X)\n",
    "    if pca:\n",
    "        X = X.dot(pca.components_.T)\n",
    "    if lpass:\n",
    "        X = butter_lowpass_filter(X,lpass,500)\n",
    "    #f bpass:\n",
    "        # = butter_bandpass_filter(X,bpass[0],bpass[1],500)\n",
    "    if sca:\n",
    "        X=scaler.transform(X)\n",
    "    if cpast:\n",
    "        X = concat_past(X,interval=cpast[0],num_past=cpast[1])\n",
    "    return X\n",
    "\n",
    "def concat_past(X,interval=20,num_past=5):\n",
    "    frames = []\n",
    "    for i in range(num_past):\n",
    "        X_trunc  = X[i*interval:-(num_past-i)*interval]\n",
    "        frames.append(X_trunc)\n",
    "    X_out = np.concatenate(frames,axis=1)\n",
    "    return X_out\n",
    "\n",
    "\n",
    "def pd_concat_past(X,interval=20,num_past=5):\n",
    "    frames = []\n",
    "    for i in range(num_past):\n",
    "        X_trunc  = X[i*interval:-(num_past-i)*interval]\n",
    "        X_trunc = X_trunc.rename(index=lambda x: x-i*interval)\n",
    "        frames.append(X_trunc)\n",
    "    X_out = pd.concat(frames,axis=1)\n",
    "    return X_out\n",
    "\n",
    "def butter_bandpass(lowcut, highcut, fs, order=5):\n",
    "    nyq = 0.5 * fs\n",
    "    low = lowcut / nyq\n",
    "    high = highcut / nyq\n",
    "    b, a = butter(order, [low, high], btype='band')\n",
    "    return b, a\n",
    "\n",
    "\n",
    "def butter_bandpass_filter(data, lowcut, highcut, fs, order=5):\n",
    "    b, a = butter_bandpass(lowcut, highcut, fs, order=order)\n",
    "    y = lfilter(b, a, data,axis=0)\n",
    "    return y\n",
    "\n",
    "def butter_lowpass(highcut,fs,order=5):\n",
    "    nyq = 0.5*fs\n",
    "    high = highcut/nyq\n",
    "    b,a = butter(order,high,btype=\"low\")\n",
    "    return b,a\n",
    "\n",
    "def butter_lowpass_filter(data,highcut,fs,order=5):\n",
    "    b, a = butter_lowpass(highcut,fs,order=order)\n",
    "    y = lfilter(b,a,data,axis=0)\n",
    "    return y\n",
    "                                                                                                                                                                                                                                                                                                                                                                                                                                                                                                                                                                                                                                                                                                                            \n",
    "def fit(X,y):\n",
    "    # Do here you training\n",
    "    clf = LogisticRegression()\n",
    "    clf.fit(X,y)\n",
    "    return clf\n",
    "\n",
    "def predict(clf,X):\n",
    "    # do here your prediction\n",
    "    preds = clf.predict_proba(X)\n",
    "    return np.atleast_2d(preds[:,clf.classes_==1])\n",
    "\n",
    "def creat_mne_raw_object(data, events=[]):\n",
    "    \"\"\"Create a mne raw instance from csv file\"\"\"\n",
    "\n",
    "    ch_names = list(data.columns)\n",
    "    \n",
    "    # read EEG standard montage from mne\n",
    "    montage = read_montage('standard_1005',ch_names)\n",
    "\n",
    "    ch_type = ['eeg']*len(ch_names)\n",
    "    data = np.array(data[ch_names]).T\n",
    "\n",
    "    if len(events)>0:\n",
    "        events_names =list(events.columns)\n",
    "        events_data = np.array(events[events_names]).T     \n",
    "        # define channel type, the first is EEG, the last 6 are stimulations\n",
    "        ch_type.extend(['stim']*6)\n",
    "        ch_names.extend(events_names)\n",
    "        # concatenate event file and data\n",
    "        data = np.concatenate((data,events_data))\n",
    "        \n",
    "    # create and populate MNE info structure\n",
    "    info = create_info(ch_names,sfreq=500.0, ch_types=ch_type, montage=montage)\n",
    "    #info['filename'] = fname\n",
    "    \n",
    "    # create raw object \n",
    "    raw = RawArray(data,info,verbose=False)\n",
    "    \n",
    "    return raw\n",
    "\n",
    "def fit_CSP(data,events=[]):\n",
    "    epochs_tot = []\n",
    "    y = []\n",
    "    # read and concatenate all the files\n",
    "    #raw = concatenate_raws([creat_mne_raw_object(fname) for fname in fnames])\n",
    "    raw = creat_mne_raw_object(data,events=events)\n",
    "    # pick eeg signal\n",
    "    picks = pick_types(raw.info,eeg=True)\n",
    "\n",
    "    events = find_events(raw,stim_channel='HandStart', verbose=False)\n",
    "\n",
    "    epochs = Epochs(raw, events, {'during' : 1}, 0, 2, proj=False,\n",
    "                    picks=picks, baseline=None, preload=True,\n",
    "                    add_eeg_ref=False, verbose=False)\n",
    "\n",
    "    epochs_tot.append(epochs)\n",
    "    y.extend([1]*len(epochs))\n",
    "    \n",
    "    epochs_rest = Epochs(raw, events, {'before' : 1}, -2, 0, proj=False,\n",
    "                    picks=picks, baseline=None, preload=True,\n",
    "                    add_eeg_ref=False, verbose=False)\n",
    "    \n",
    "    epochs_rest.times = epochs.times\n",
    "    \n",
    "    y.extend([-1]*len(epochs_rest))\n",
    "    epochs_tot.append(epochs_rest)\n",
    "        \n",
    "    epochs = concatenate_epochs(epochs_tot)\n",
    "\n",
    "    X = epochs.get_data()\n",
    "    y = np.array(y)\n",
    "    \n",
    "\n",
    "    csp.fit(X,y)\n",
    "    \n",
    "\n",
    "##downsampling naively like this is not correct, if you do not low pass filter.\n",
    "##this down sampling here it needed only to keep the script run below 10 minutes.\n",
    "## please do not downsample or use correct procedure to decimate data without alias\n",
    "#subsample=100 # training subsample.if you want to downsample the training data\n",
    "#######columns name for labels#############\n",
    "cols = ['HandStart','FirstDigitTouch',\n",
    "        'BothStartLoadPhase','LiftOff',\n",
    "        'Replace','BothReleased']"
   ]
  },
  {
   "cell_type": "code",
   "execution_count": 2,
   "metadata": {
    "collapsed": true
   },
   "outputs": [],
   "source": [
    "def eval_lr(lr,cpast=[],lpass=None,bpass=None,pca=None,sca=None,csp_filt=None):\n",
    "    fns = glob(\"../train/subj1_series[2-9]_data.csv\")\n",
    "    scores = np.zeros(len(fns))\n",
    "    for i, fn in enumerate(fns):\n",
    "        data, labels = prepare_data_train(fn)\n",
    "        y_test = labels['FirstDigitTouch']\n",
    "        if len(cpast)>0:\n",
    "            y_test = y_test[cpast[0]*cpast[1]:]\n",
    "        X_test = data_preprocess_test(data,sca=sca,cpast=cpast,bpass=bpass,pca=pca,lpass=lpass,csp_filt=csp_filt)\n",
    "        pred = lr.predict_proba(X_test)[:,1]\n",
    "        \n",
    "        scores[i] = roc_auc_score(y_test,pred)\n",
    "        \n",
    "    return np.average(scores)"
   ]
  },
  {
   "cell_type": "code",
   "execution_count": 104,
   "metadata": {
    "collapsed": true
   },
   "outputs": [],
   "source": [
    "subsample = 5\n",
    "cut = 35\n",
    "cpast = [20,10]\n",
    "events = ['HandStart','FirstDigitTouch',\n",
    "            'BothStartLoadPhase','LiftOff',\n",
    "            'Replace','BothReleased']\n",
    "subjects = range(1,13)\n",
    "series = range(1,9)"
   ]
  },
  {
   "cell_type": "code",
   "execution_count": 82,
   "metadata": {
    "collapsed": false
   },
   "outputs": [
    {
     "name": "stdout",
     "output_type": "stream",
     "text": [
      "119296 119296\n",
      "271754 271754\n",
      "217414 217414\n",
      "116040 116040\n",
      "210444 210444\n",
      "249350 249350\n",
      "119361 119361\n",
      "117133 117133\n",
      "[0.73413156044466588, 0.85468935372119925, 0.84369560297424262, 0.78223508476600656, 0.85561251527460724, 0.84489120509588]\n",
      "291674 291674\n",
      "329882 329882\n",
      "152545 152545\n",
      "277914 277914\n",
      "151447 151447\n",
      "206022 206022\n",
      "150665 150665\n"
     ]
    },
    {
     "ename": "KeyboardInterrupt",
     "evalue": "",
     "output_type": "error",
     "traceback": [
      "\u001b[1;31m---------------------------------------------------------------------------\u001b[0m",
      "\u001b[1;31mKeyboardInterrupt\u001b[0m                         Traceback (most recent call last)",
      "\u001b[1;32m<ipython-input-82-75923aafbe86>\u001b[0m in \u001b[0;36m<module>\u001b[1;34m()\u001b[0m\n\u001b[0;32m     36\u001b[0m         \u001b[0mX_train\u001b[0m \u001b[1;33m=\u001b[0m \u001b[0mdata_preprocess_train\u001b[0m\u001b[1;33m(\u001b[0m\u001b[0mX_train\u001b[0m\u001b[1;33m,\u001b[0m\u001b[0mlabels\u001b[0m\u001b[1;33m,\u001b[0m\u001b[0mlpass\u001b[0m\u001b[1;33m=\u001b[0m\u001b[0mcut\u001b[0m\u001b[1;33m,\u001b[0m\u001b[0mcsp_filt\u001b[0m\u001b[1;33m=\u001b[0m\u001b[1;36m1\u001b[0m\u001b[1;33m,\u001b[0m\u001b[0msca\u001b[0m\u001b[1;33m=\u001b[0m\u001b[1;36m1\u001b[0m\u001b[1;33m,\u001b[0m\u001b[0mcpast\u001b[0m\u001b[1;33m=\u001b[0m\u001b[0mcpast\u001b[0m\u001b[1;33m)\u001b[0m\u001b[1;33m\u001b[0m\u001b[0m\n\u001b[0;32m     37\u001b[0m         \u001b[0mX_test\u001b[0m\u001b[1;33m=\u001b[0m\u001b[0mdata_preprocess_test\u001b[0m\u001b[1;33m(\u001b[0m\u001b[0mX_test\u001b[0m\u001b[1;33m,\u001b[0m\u001b[0msca\u001b[0m\u001b[1;33m=\u001b[0m\u001b[1;36m1\u001b[0m\u001b[1;33m,\u001b[0m\u001b[0mlpass\u001b[0m\u001b[1;33m=\u001b[0m\u001b[0mcut\u001b[0m\u001b[1;33m,\u001b[0m\u001b[0mcsp_filt\u001b[0m\u001b[1;33m=\u001b[0m\u001b[1;36m1\u001b[0m\u001b[1;33m,\u001b[0m\u001b[0mcpast\u001b[0m\u001b[1;33m=\u001b[0m\u001b[0mcpast\u001b[0m\u001b[1;33m)\u001b[0m\u001b[1;33m\u001b[0m\u001b[0m\n\u001b[1;32m---> 38\u001b[1;33m         \u001b[0mclfs\u001b[0m \u001b[1;33m=\u001b[0m \u001b[0mParallel\u001b[0m\u001b[1;33m(\u001b[0m\u001b[0mn_jobs\u001b[0m\u001b[1;33m=\u001b[0m\u001b[1;36m3\u001b[0m\u001b[1;33m)\u001b[0m\u001b[1;33m(\u001b[0m\u001b[0mdelayed\u001b[0m\u001b[1;33m(\u001b[0m\u001b[0mfit\u001b[0m\u001b[1;33m)\u001b[0m\u001b[1;33m(\u001b[0m\u001b[0mX_train\u001b[0m\u001b[1;33m[\u001b[0m\u001b[1;33m:\u001b[0m\u001b[1;33m:\u001b[0m\u001b[0msubsample\u001b[0m\u001b[1;33m,\u001b[0m\u001b[1;33m:\u001b[0m\u001b[1;33m]\u001b[0m\u001b[1;33m,\u001b[0m\u001b[0my_train\u001b[0m\u001b[1;33m[\u001b[0m\u001b[1;33m:\u001b[0m\u001b[1;33m:\u001b[0m\u001b[0msubsample\u001b[0m\u001b[1;33m,\u001b[0m\u001b[0mi\u001b[0m\u001b[1;33m]\u001b[0m\u001b[1;33m)\u001b[0m \u001b[1;32mfor\u001b[0m \u001b[0mi\u001b[0m \u001b[1;32min\u001b[0m \u001b[0mrange\u001b[0m\u001b[1;33m(\u001b[0m\u001b[1;36m6\u001b[0m\u001b[1;33m)\u001b[0m\u001b[1;33m)\u001b[0m\u001b[1;33m\u001b[0m\u001b[0m\n\u001b[0m\u001b[0;32m     39\u001b[0m         \u001b[0mpreds\u001b[0m \u001b[1;33m=\u001b[0m \u001b[0mParallel\u001b[0m\u001b[1;33m(\u001b[0m\u001b[0mn_jobs\u001b[0m\u001b[1;33m=\u001b[0m\u001b[1;36m3\u001b[0m\u001b[1;33m)\u001b[0m\u001b[1;33m(\u001b[0m\u001b[0mdelayed\u001b[0m\u001b[1;33m(\u001b[0m\u001b[0mpredict\u001b[0m\u001b[1;33m)\u001b[0m\u001b[1;33m(\u001b[0m\u001b[0mclfs\u001b[0m\u001b[1;33m[\u001b[0m\u001b[0mi\u001b[0m\u001b[1;33m]\u001b[0m\u001b[1;33m,\u001b[0m\u001b[0mX_test\u001b[0m\u001b[1;33m)\u001b[0m \u001b[1;32mfor\u001b[0m \u001b[0mi\u001b[0m \u001b[1;32min\u001b[0m \u001b[0mrange\u001b[0m\u001b[1;33m(\u001b[0m\u001b[1;36m6\u001b[0m\u001b[1;33m)\u001b[0m\u001b[1;33m)\u001b[0m\u001b[1;33m\u001b[0m\u001b[0m\n\u001b[0;32m     40\u001b[0m         \u001b[0mprint\u001b[0m\u001b[1;33m(\u001b[0m\u001b[0mlen\u001b[0m\u001b[1;33m(\u001b[0m\u001b[0mtest\u001b[0m\u001b[1;33m[\u001b[0m\u001b[0mcpast\u001b[0m\u001b[1;33m[\u001b[0m\u001b[1;36m0\u001b[0m\u001b[1;33m]\u001b[0m\u001b[1;33m*\u001b[0m\u001b[0mcpast\u001b[0m\u001b[1;33m[\u001b[0m\u001b[1;36m1\u001b[0m\u001b[1;33m]\u001b[0m\u001b[1;33m:\u001b[0m\u001b[1;33m]\u001b[0m\u001b[1;33m)\u001b[0m\u001b[1;33m,\u001b[0m\u001b[0mlen\u001b[0m\u001b[1;33m(\u001b[0m\u001b[0mpreds\u001b[0m\u001b[1;33m[\u001b[0m\u001b[1;36m0\u001b[0m\u001b[1;33m]\u001b[0m\u001b[1;33m)\u001b[0m\u001b[1;33m)\u001b[0m\u001b[1;33m\u001b[0m\u001b[0m\n",
      "\u001b[1;32m/usr/local/lib/python3.4/dist-packages/joblib/parallel.py\u001b[0m in \u001b[0;36m__call__\u001b[1;34m(self, iterable)\u001b[0m\n\u001b[0;32m    658\u001b[0m                 \u001b[1;31m# consumption.\u001b[0m\u001b[1;33m\u001b[0m\u001b[1;33m\u001b[0m\u001b[0m\n\u001b[0;32m    659\u001b[0m                 \u001b[0mself\u001b[0m\u001b[1;33m.\u001b[0m\u001b[0m_iterating\u001b[0m \u001b[1;33m=\u001b[0m \u001b[1;32mFalse\u001b[0m\u001b[1;33m\u001b[0m\u001b[0m\n\u001b[1;32m--> 660\u001b[1;33m             \u001b[0mself\u001b[0m\u001b[1;33m.\u001b[0m\u001b[0mretrieve\u001b[0m\u001b[1;33m(\u001b[0m\u001b[1;33m)\u001b[0m\u001b[1;33m\u001b[0m\u001b[0m\n\u001b[0m\u001b[0;32m    661\u001b[0m             \u001b[1;31m# Make sure that we get a last message telling us we are done\u001b[0m\u001b[1;33m\u001b[0m\u001b[1;33m\u001b[0m\u001b[0m\n\u001b[0;32m    662\u001b[0m             \u001b[0melapsed_time\u001b[0m \u001b[1;33m=\u001b[0m \u001b[0mtime\u001b[0m\u001b[1;33m.\u001b[0m\u001b[0mtime\u001b[0m\u001b[1;33m(\u001b[0m\u001b[1;33m)\u001b[0m \u001b[1;33m-\u001b[0m \u001b[0mself\u001b[0m\u001b[1;33m.\u001b[0m\u001b[0m_start_time\u001b[0m\u001b[1;33m\u001b[0m\u001b[0m\n",
      "\u001b[1;32m/usr/local/lib/python3.4/dist-packages/joblib/parallel.py\u001b[0m in \u001b[0;36mretrieve\u001b[1;34m(self)\u001b[0m\n\u001b[0;32m    524\u001b[0m                             \u001b[1;31m# We can now allow subprocesses again\u001b[0m\u001b[1;33m\u001b[0m\u001b[1;33m\u001b[0m\u001b[0m\n\u001b[0;32m    525\u001b[0m                             \u001b[0mos\u001b[0m\u001b[1;33m.\u001b[0m\u001b[0menviron\u001b[0m\u001b[1;33m.\u001b[0m\u001b[0mpop\u001b[0m\u001b[1;33m(\u001b[0m\u001b[1;34m'__JOBLIB_SPAWNED_PARALLEL__'\u001b[0m\u001b[1;33m,\u001b[0m \u001b[1;36m0\u001b[0m\u001b[1;33m)\u001b[0m\u001b[1;33m\u001b[0m\u001b[0m\n\u001b[1;32m--> 526\u001b[1;33m                         \u001b[1;32mraise\u001b[0m \u001b[0mexception\u001b[0m\u001b[1;33m\u001b[0m\u001b[0m\n\u001b[0m\u001b[0;32m    527\u001b[0m                     \u001b[1;32melif\u001b[0m \u001b[0misinstance\u001b[0m\u001b[1;33m(\u001b[0m\u001b[0mexception\u001b[0m\u001b[1;33m,\u001b[0m \u001b[0mTransportableException\u001b[0m\u001b[1;33m)\u001b[0m\u001b[1;33m:\u001b[0m\u001b[1;33m\u001b[0m\u001b[0m\n\u001b[0;32m    528\u001b[0m                         \u001b[1;31m# Capture exception to add information on the local\u001b[0m\u001b[1;33m\u001b[0m\u001b[1;33m\u001b[0m\u001b[0m\n",
      "\u001b[1;32m/usr/local/lib/python3.4/dist-packages/joblib/parallel.py\u001b[0m in \u001b[0;36mretrieve\u001b[1;34m(self)\u001b[0m\n\u001b[0;32m    510\u001b[0m                 \u001b[0mself\u001b[0m\u001b[1;33m.\u001b[0m\u001b[0m_lock\u001b[0m\u001b[1;33m.\u001b[0m\u001b[0mrelease\u001b[0m\u001b[1;33m(\u001b[0m\u001b[1;33m)\u001b[0m\u001b[1;33m\u001b[0m\u001b[0m\n\u001b[0;32m    511\u001b[0m             \u001b[1;32mtry\u001b[0m\u001b[1;33m:\u001b[0m\u001b[1;33m\u001b[0m\u001b[0m\n\u001b[1;32m--> 512\u001b[1;33m                 \u001b[0mself\u001b[0m\u001b[1;33m.\u001b[0m\u001b[0m_output\u001b[0m\u001b[1;33m.\u001b[0m\u001b[0mappend\u001b[0m\u001b[1;33m(\u001b[0m\u001b[0mjob\u001b[0m\u001b[1;33m.\u001b[0m\u001b[0mget\u001b[0m\u001b[1;33m(\u001b[0m\u001b[1;33m)\u001b[0m\u001b[1;33m)\u001b[0m\u001b[1;33m\u001b[0m\u001b[0m\n\u001b[0m\u001b[0;32m    513\u001b[0m             \u001b[1;32mexcept\u001b[0m \u001b[0mtuple\u001b[0m\u001b[1;33m(\u001b[0m\u001b[0mself\u001b[0m\u001b[1;33m.\u001b[0m\u001b[0mexceptions\u001b[0m\u001b[1;33m)\u001b[0m \u001b[1;32mas\u001b[0m \u001b[0mexception\u001b[0m\u001b[1;33m:\u001b[0m\u001b[1;33m\u001b[0m\u001b[0m\n\u001b[0;32m    514\u001b[0m                 \u001b[1;32mtry\u001b[0m\u001b[1;33m:\u001b[0m\u001b[1;33m\u001b[0m\u001b[0m\n",
      "\u001b[1;32m/usr/lib/python3.4/multiprocessing/pool.py\u001b[0m in \u001b[0;36mget\u001b[1;34m(self, timeout)\u001b[0m\n\u001b[0;32m    591\u001b[0m \u001b[1;33m\u001b[0m\u001b[0m\n\u001b[0;32m    592\u001b[0m     \u001b[1;32mdef\u001b[0m \u001b[0mget\u001b[0m\u001b[1;33m(\u001b[0m\u001b[0mself\u001b[0m\u001b[1;33m,\u001b[0m \u001b[0mtimeout\u001b[0m\u001b[1;33m=\u001b[0m\u001b[1;32mNone\u001b[0m\u001b[1;33m)\u001b[0m\u001b[1;33m:\u001b[0m\u001b[1;33m\u001b[0m\u001b[0m\n\u001b[1;32m--> 593\u001b[1;33m         \u001b[0mself\u001b[0m\u001b[1;33m.\u001b[0m\u001b[0mwait\u001b[0m\u001b[1;33m(\u001b[0m\u001b[0mtimeout\u001b[0m\u001b[1;33m)\u001b[0m\u001b[1;33m\u001b[0m\u001b[0m\n\u001b[0m\u001b[0;32m    594\u001b[0m         \u001b[1;32mif\u001b[0m \u001b[1;32mnot\u001b[0m \u001b[0mself\u001b[0m\u001b[1;33m.\u001b[0m\u001b[0mready\u001b[0m\u001b[1;33m(\u001b[0m\u001b[1;33m)\u001b[0m\u001b[1;33m:\u001b[0m\u001b[1;33m\u001b[0m\u001b[0m\n\u001b[0;32m    595\u001b[0m             \u001b[1;32mraise\u001b[0m \u001b[0mTimeoutError\u001b[0m\u001b[1;33m\u001b[0m\u001b[0m\n",
      "\u001b[1;32m/usr/lib/python3.4/multiprocessing/pool.py\u001b[0m in \u001b[0;36mwait\u001b[1;34m(self, timeout)\u001b[0m\n\u001b[0;32m    588\u001b[0m \u001b[1;33m\u001b[0m\u001b[0m\n\u001b[0;32m    589\u001b[0m     \u001b[1;32mdef\u001b[0m \u001b[0mwait\u001b[0m\u001b[1;33m(\u001b[0m\u001b[0mself\u001b[0m\u001b[1;33m,\u001b[0m \u001b[0mtimeout\u001b[0m\u001b[1;33m=\u001b[0m\u001b[1;32mNone\u001b[0m\u001b[1;33m)\u001b[0m\u001b[1;33m:\u001b[0m\u001b[1;33m\u001b[0m\u001b[0m\n\u001b[1;32m--> 590\u001b[1;33m         \u001b[0mself\u001b[0m\u001b[1;33m.\u001b[0m\u001b[0m_event\u001b[0m\u001b[1;33m.\u001b[0m\u001b[0mwait\u001b[0m\u001b[1;33m(\u001b[0m\u001b[0mtimeout\u001b[0m\u001b[1;33m)\u001b[0m\u001b[1;33m\u001b[0m\u001b[0m\n\u001b[0m\u001b[0;32m    591\u001b[0m \u001b[1;33m\u001b[0m\u001b[0m\n\u001b[0;32m    592\u001b[0m     \u001b[1;32mdef\u001b[0m \u001b[0mget\u001b[0m\u001b[1;33m(\u001b[0m\u001b[0mself\u001b[0m\u001b[1;33m,\u001b[0m \u001b[0mtimeout\u001b[0m\u001b[1;33m=\u001b[0m\u001b[1;32mNone\u001b[0m\u001b[1;33m)\u001b[0m\u001b[1;33m:\u001b[0m\u001b[1;33m\u001b[0m\u001b[0m\n",
      "\u001b[1;32m/usr/lib/python3.4/threading.py\u001b[0m in \u001b[0;36mwait\u001b[1;34m(self, timeout)\u001b[0m\n\u001b[0;32m    550\u001b[0m             \u001b[0msignaled\u001b[0m \u001b[1;33m=\u001b[0m \u001b[0mself\u001b[0m\u001b[1;33m.\u001b[0m\u001b[0m_flag\u001b[0m\u001b[1;33m\u001b[0m\u001b[0m\n\u001b[0;32m    551\u001b[0m             \u001b[1;32mif\u001b[0m \u001b[1;32mnot\u001b[0m \u001b[0msignaled\u001b[0m\u001b[1;33m:\u001b[0m\u001b[1;33m\u001b[0m\u001b[0m\n\u001b[1;32m--> 552\u001b[1;33m                 \u001b[0msignaled\u001b[0m \u001b[1;33m=\u001b[0m \u001b[0mself\u001b[0m\u001b[1;33m.\u001b[0m\u001b[0m_cond\u001b[0m\u001b[1;33m.\u001b[0m\u001b[0mwait\u001b[0m\u001b[1;33m(\u001b[0m\u001b[0mtimeout\u001b[0m\u001b[1;33m)\u001b[0m\u001b[1;33m\u001b[0m\u001b[0m\n\u001b[0m\u001b[0;32m    553\u001b[0m             \u001b[1;32mreturn\u001b[0m \u001b[0msignaled\u001b[0m\u001b[1;33m\u001b[0m\u001b[0m\n\u001b[0;32m    554\u001b[0m         \u001b[1;32mfinally\u001b[0m\u001b[1;33m:\u001b[0m\u001b[1;33m\u001b[0m\u001b[0m\n",
      "\u001b[1;32m/usr/lib/python3.4/threading.py\u001b[0m in \u001b[0;36mwait\u001b[1;34m(self, timeout)\u001b[0m\n\u001b[0;32m    287\u001b[0m         \u001b[1;32mtry\u001b[0m\u001b[1;33m:\u001b[0m    \u001b[1;31m# restore state no matter what (e.g., KeyboardInterrupt)\u001b[0m\u001b[1;33m\u001b[0m\u001b[0m\n\u001b[0;32m    288\u001b[0m             \u001b[1;32mif\u001b[0m \u001b[0mtimeout\u001b[0m \u001b[1;32mis\u001b[0m \u001b[1;32mNone\u001b[0m\u001b[1;33m:\u001b[0m\u001b[1;33m\u001b[0m\u001b[0m\n\u001b[1;32m--> 289\u001b[1;33m                 \u001b[0mwaiter\u001b[0m\u001b[1;33m.\u001b[0m\u001b[0macquire\u001b[0m\u001b[1;33m(\u001b[0m\u001b[1;33m)\u001b[0m\u001b[1;33m\u001b[0m\u001b[0m\n\u001b[0m\u001b[0;32m    290\u001b[0m                 \u001b[0mgotit\u001b[0m \u001b[1;33m=\u001b[0m \u001b[1;32mTrue\u001b[0m\u001b[1;33m\u001b[0m\u001b[0m\n\u001b[0;32m    291\u001b[0m             \u001b[1;32melse\u001b[0m\u001b[1;33m:\u001b[0m\u001b[1;33m\u001b[0m\u001b[0m\n",
      "\u001b[1;31mKeyboardInterrupt\u001b[0m: "
     ]
    }
   ],
   "source": [
    "pred_tot = []\n",
    "y_tot = []\n",
    "auc_tot = []\n",
    "for subject in subjects:\n",
    "    y_raw= []\n",
    "    raw = []\n",
    "    sequence = []\n",
    "\n",
    "    ################ READ DATA ################################################\n",
    "    \n",
    "    for ser in series:\n",
    "        fname =  '../train/subj%d_series%d_data.csv' % (subject,ser)\n",
    "        data,labels=prepare_data_train(fname)\n",
    "        raw.append(data) \n",
    "        y_raw.append(labels)\n",
    "        sequence.extend([ser]*len(data))\n",
    "\n",
    "    X = pd.concat(raw)\n",
    "    y = pd.concat(y_raw)\n",
    "    #transform in numpy array\n",
    "    #transform train data in numpy array\n",
    "    X = np.asarray(X.astype(float))\n",
    "    y = np.asarray(y.astype(float))\n",
    "    sequence = np.asarray(sequence)\n",
    "\n",
    "\n",
    "    ################ Train classifiers ########################################\n",
    "    cv = LeaveOneLabelOut(sequence)\n",
    "    pred = np.empty((X.shape[0],6))\n",
    "    \n",
    "    for train, test in cv:\n",
    "        X_train = X[train]\n",
    "        X_test = X[test]\n",
    "        y_train = y[train][cpast[0]*cpast[1]:]\n",
    "        #apply preprocessing\n",
    "        X_train = data_preprocess_train(X_train,labels,lpass=cut,csp_filt=1,sca=1,cpast=cpast)\n",
    "        X_test=data_preprocess_test(X_test,sca=1,lpass=cut,csp_filt=1,cpast=cpast)\n",
    "        clfs = Parallel(n_jobs=3)(delayed(fit)(X_train[::subsample,:],y_train[::subsample,i]) for i in range(6))\n",
    "        preds = Parallel(n_jobs=3)(delayed(predict)(clfs[i],X_test) for i in range(6))\n",
    "        print(len(test[cpast[0]*cpast[1]:]),len(preds[0]))\n",
    "        pred[test[cpast[0]*cpast[1]:],:] = np.concatenate(preds,axis=1)\n",
    "        \n",
    "    pred_tot.append(pred)\n",
    "    y_tot.append(y)\n",
    "    # get AUC\n",
    "    auc = [roc_auc_score(y[:,i],pred[:,i]) for i in range(6)]     \n",
    "    auc_tot.append(auc)\n",
    "    print(auc)"
   ]
  },
  {
   "cell_type": "code",
   "execution_count": 80,
   "metadata": {
    "collapsed": false
   },
   "outputs": [
    {
     "data": {
      "text/plain": [
       "0.66643457002579021"
      ]
     },
     "execution_count": 80,
     "metadata": {},
     "output_type": "execute_result"
    }
   ],
   "source": [
    "np.average(auc_tot)"
   ]
  },
  {
   "cell_type": "code",
   "execution_count": 51,
   "metadata": {
    "collapsed": false
   },
   "outputs": [
    {
     "data": {
      "text/plain": [
       "0.77000632202767161"
      ]
     },
     "execution_count": 51,
     "metadata": {},
     "output_type": "execute_result"
    }
   ],
   "source": [
    "np.average(auc)"
   ]
  },
  {
   "cell_type": "code",
   "execution_count": 98,
   "metadata": {
    "collapsed": true
   },
   "outputs": [],
   "source": [
    "idx = []\n",
    "for i, subject in enumerate(subjects):\n",
    "    X_test = prepare_data_test('../test/subj%d_series10_data.csv' %(subject))\n",
    "    idx.append(np.array(X_test['id']))"
   ]
  },
  {
   "cell_type": "code",
   "execution_count": 111,
   "metadata": {
    "collapsed": false
   },
   "outputs": [
    {
     "name": "stdout",
     "output_type": "stream",
     "text": [
      "149745 232881\n",
      "149745 297885\n",
      "149745 225139\n",
      "149745 244594\n",
      "149745 260860\n",
      "149745 279321\n",
      "149745 276824\n",
      "149745 250064\n",
      "149745 252200\n",
      "149745 257037\n",
      "149745 277297\n",
      "149745 287669\n"
     ]
    }
   ],
   "source": [
    "pred_tot = []\n",
    "y_tot = []\n",
    "auc_tot = []\n",
    "ids_tot = []\n",
    "idx = []\n",
    "for i, subject in enumerate(subjects):\n",
    "    y_raw= []\n",
    "    raw = []\n",
    "    raw_test = []\n",
    "    ################ READ DATA ################################################\n",
    "    \n",
    "    for ser in series:\n",
    "        fname =  '../train/subj%d_series%d_data.csv' % (subject,ser)\n",
    "        data,labels=prepare_data_train(fname)\n",
    "        raw.append(data) \n",
    "        y_raw.append(labels)   \n",
    "\n",
    "    for k in range(9,11):\n",
    "        X_test = prepare_data_test('../test/subj%d_series%d_data.csv' %(subject,k))\n",
    "        idx.append(np.array(X_test['id']))   \n",
    "        X_test = X_test.drop(['id'],axis=1)\n",
    "        raw_test.append(X_test)\n",
    "    X_test = pd.concat(raw_test)\n",
    "    X_train = pd.concat(raw)\n",
    "    y_train = pd.concat(y_raw)\n",
    "    #transform in numpy array\n",
    "    #transform train data in numpy array\n",
    "    X_train = np.asarray(X_train.astype(float))\n",
    "    y_train = np.asarray(y_train.astype(float))[cpast[0]*cpast[1]:]\n",
    "    #sequence = np.asarray(sequence)\n",
    "\n",
    "\n",
    "    ################ Train classifiers ########################################\n",
    "    #cv = LeaveOneLabelOut(sequence)\n",
    "    pred = np.empty((X_test.shape[0],6))\n",
    "    \n",
    "    #apply preprocessing\n",
    "    X_train = data_preprocess_train(X_train,labels,lpass=cut,csp_filt=1,sca=1,cpast=cpast)\n",
    "    X_test=data_preprocess_test(X_test,sca=1,lpass=cut,csp_filt=1,cpast=cpast)\n",
    "    clfs = Parallel(n_jobs=3)(delayed(fit)(X_train[::subsample,:],y_train[::subsample,i]) for i in range(6))\n",
    "    preds = Parallel(n_jobs=3)(delayed(predict)(clfs[i],X_test) for i in range(6))\n",
    "    print(len(test[cpast[0]*cpast[1]:]),len(preds[0]))\n",
    "    pred[cpast[0]*cpast[1]:,:] = np.concatenate(preds,axis=1)\n",
    "        \n",
    "    pred_tot.append(pred)\n",
    "\n",
    "ids_tot=np.concatenate(idx)\n",
    "    \n",
    "submission_file = 'grasp_sub_first.csv'\n",
    "submission = pd.DataFrame(index=ids_tot,\n",
    "                          columns=cols,\n",
    "                          data=np.concatenate(pred_tot))\n",
    "                   \n",
    "submission.to_csv(submission_file,index_label='id',float_format='%.3f')"
   ]
  },
  {
   "cell_type": "code",
   "execution_count": 113,
   "metadata": {
    "collapsed": false
   },
   "outputs": [
    {
     "data": {
      "text/plain": [
       "3144171"
      ]
     },
     "execution_count": 113,
     "metadata": {},
     "output_type": "execute_result"
    }
   ],
   "source": [
    "len(ids_tot)"
   ]
  },
  {
   "cell_type": "code",
   "execution_count": 5,
   "metadata": {
    "collapsed": true
   },
   "outputs": [],
   "source": [
    "fn, fn2 = \"../train/subj1_series1_data.csv\", \"../train/subj1_series2_data.csv\"\n",
    "data, labels = prepare_data_train(fn)\n"
   ]
  },
  {
   "cell_type": "code",
   "execution_count": 4,
   "metadata": {
    "collapsed": false,
    "scrolled": true
   },
   "outputs": [
    {
     "name": "stderr",
     "output_type": "stream",
     "text": [
      "/usr/local/lib/python3.4/dist-packages/sklearn/utils/validation.py:498: UserWarning: StandardScaler assumes floating point values as input, got int64\n",
      "  \"got %s\" % (estimator, X.dtype))\n"
     ]
    },
    {
     "data": {
      "text/plain": [
       "0.74308979879279602"
      ]
     },
     "execution_count": 4,
     "metadata": {},
     "output_type": "execute_result"
    }
   ],
   "source": [
    "fn, fn2 = \"../train/subj1_series1_data.csv\", \"../train/subj1_series2_data.csv\"\n",
    "data, labels = prepare_data_train(fn)\n",
    "\n",
    "y_train = labels[\"FirstDigitTouch\"]\n",
    "X_train = data_preprocess_train(data,sca=1)\n",
    "lr1 = LogisticRegression()\n",
    "lr1.fit(X_train[::subsample],y_train[::subsample]) \n",
    "\n",
    "eval_lr(lr1,sca=1)"
   ]
  },
  {
   "cell_type": "code",
   "execution_count": 72,
   "metadata": {
    "collapsed": false
   },
   "outputs": [
    {
     "name": "stderr",
     "output_type": "stream",
     "text": [
      "/usr/local/lib/python3.4/dist-packages/sklearn/utils/validation.py:498: UserWarning: StandardScaler assumes floating point values as input, got int64\n",
      "  \"got %s\" % (estimator, X.dtype))\n"
     ]
    },
    {
     "data": {
      "text/plain": [
       "0.83923819765432472"
      ]
     },
     "execution_count": 72,
     "metadata": {},
     "output_type": "execute_result"
    }
   ],
   "source": [
    "y_train2 = labels[\"FirstDigitTouch\"][100:]\n",
    "X_train2 = data_preprocess_train(data,cpast=[20,5],sca=1)\n",
    "lr2 = LogisticRegression()\n",
    "lr2.fit(X_train2[::subsample],y_train2[::subsample]) \n",
    "\n",
    "eval_lr(lr2,cpast=[20,5],sca=1)"
   ]
  },
  {
   "cell_type": "code",
   "execution_count": 75,
   "metadata": {
    "collapsed": false
   },
   "outputs": [
    {
     "data": {
      "text/plain": [
       "0.75988739853284293"
      ]
     },
     "execution_count": 75,
     "metadata": {},
     "output_type": "execute_result"
    }
   ],
   "source": [
    "band=[0.5,35]\n",
    "cut = 30\n",
    "\n",
    "y_train3 = labels[\"FirstDigitTouch\"]\n",
    "X_train3 = data_preprocess_train(data,lpass=cut,sca=1)\n",
    "lr3 = LogisticRegression()\n",
    "lr3.fit(X_train3[::subsample],y_train3[::subsample]) \n",
    "\n",
    "eval_lr(lr3,lpass=cut,sca=1)"
   ]
  },
  {
   "cell_type": "code",
   "execution_count": 82,
   "metadata": {
    "collapsed": false
   },
   "outputs": [
    {
     "data": {
      "text/plain": [
       "0.81979610555588567"
      ]
     },
     "execution_count": 82,
     "metadata": {},
     "output_type": "execute_result"
    }
   ],
   "source": [
    "cut2 = 35\n",
    "\n",
    "y_train4 = labels[\"FirstDigitTouch\"][100:]\n",
    "X_train4 = data_preprocess_train(data,lpass=cut2,cpast=[20,5])\n",
    "lr4 = LogisticRegression()\n",
    "lr4.fit(X_train4[::subsample],y_train4[::subsample]) \n",
    "\n",
    "eval_lr(lr4,lpass=cut2,cpast=[20,5])"
   ]
  },
  {
   "cell_type": "code",
   "execution_count": 107,
   "metadata": {
    "collapsed": false
   },
   "outputs": [
    {
     "data": {
      "text/plain": [
       "0.78239142541246032"
      ]
     },
     "execution_count": 107,
     "metadata": {},
     "output_type": "execute_result"
    }
   ],
   "source": [
    "cut2 = 35\n",
    "\n",
    "y_train5 = labels[\"FirstDigitTouch\"]\n",
    "X_train5 = data_preprocess_train(data,labels,lpass=cut2,csp_filt=1)\n",
    "lr5 = LogisticRegression()\n",
    "lr5.fit(X_train5[::subsample],y_train5[::subsample]) \n",
    "\n",
    "eval_lr(lr5,lpass=cut2,csp_filt=1)"
   ]
  },
  {
   "cell_type": "code",
   "execution_count": 6,
   "metadata": {
    "collapsed": false
   },
   "outputs": [
    {
     "data": {
      "text/plain": [
       "0.84497900944935445"
      ]
     },
     "execution_count": 6,
     "metadata": {},
     "output_type": "execute_result"
    }
   ],
   "source": [
    "cut2 = 35\n",
    "cpast = [19,10]\n",
    "\n",
    "y_train6 = labels[\"FirstDigitTouch\"][cpast[0]*cpast[1]:]\n",
    "X_train6 = data_preprocess_train(data,labels,lpass=cut2,cpast=cpast,csp_filt=1)\n",
    "lr6 = LogisticRegression()\n",
    "lr6.fit(X_train6[::subsample],y_train6[::subsample]) \n",
    "\n",
    "eval_lr(lr6,lpass=cut2,cpast=cpast,csp_filt=1)"
   ]
  },
  {
   "cell_type": "code",
   "execution_count": null,
   "metadata": {
    "collapsed": false
   },
   "outputs": [],
   "source": [
    "reduced_data = np.zeros((len(data),8))"
   ]
  },
  {
   "cell_type": "code",
   "execution_count": null,
   "metadata": {
    "collapsed": false
   },
   "outputs": [],
   "source": [
    "reduced_data = data.dot(pca.components_.T)"
   ]
  },
  {
   "cell_type": "code",
   "execution_count": null,
   "metadata": {
    "collapsed": false
   },
   "outputs": [],
   "source": [
    "reduced_data.shape"
   ]
  },
  {
   "cell_type": "code",
   "execution_count": null,
   "metadata": {
    "collapsed": false
   },
   "outputs": [],
   "source": [
    "y_train5 = labels[\"FirstDigitTouch\"][100:]\n",
    "X_train5 = data_preprocess_train(data,bpass=1,cpast=1,pca=pca)\n",
    "lr5 = LogisticRegression()\n",
    "lr5.fit(X_train5[::subsample],y_train5[::subsample]) "
   ]
  },
  {
   "cell_type": "code",
   "execution_count": null,
   "metadata": {
    "collapsed": false
   },
   "outputs": [],
   "source": [
    "eval_lr(lr5,bpass=1,cpast=1,pca=pca)"
   ]
  },
  {
   "cell_type": "code",
   "execution_count": null,
   "metadata": {
    "collapsed": false
   },
   "outputs": [],
   "source": [
    "np.where(labels['HandStart']==1)[0][0]"
   ]
  },
  {
   "cell_type": "code",
   "execution_count": 39,
   "metadata": {
    "collapsed": false
   },
   "outputs": [],
   "source": [
    "csp = CSP()"
   ]
  },
  {
   "cell_type": "code",
   "execution_count": 30,
   "metadata": {
    "collapsed": true
   },
   "outputs": [],
   "source": [
    "X1 = np.array(data[68:1068]).T"
   ]
  },
  {
   "cell_type": "code",
   "execution_count": 33,
   "metadata": {
    "collapsed": true
   },
   "outputs": [],
   "source": [
    "X2 = np.array(data[1068:2068]).T"
   ]
  },
  {
   "cell_type": "code",
   "execution_count": 34,
   "metadata": {
    "collapsed": false
   },
   "outputs": [],
   "source": [
    "xs = np.array([X1,X2])"
   ]
  },
  {
   "cell_type": "code",
   "execution_count": 25,
   "metadata": {
    "collapsed": true
   },
   "outputs": [],
   "source": [
    "ycsp = np.array([1,-1])"
   ]
  },
  {
   "cell_type": "code",
   "execution_count": 133,
   "metadata": {
    "collapsed": false
   },
   "outputs": [
    {
     "data": {
      "text/plain": [
       "20.0"
      ]
     },
     "execution_count": 133,
     "metadata": {},
     "output_type": "execute_result"
    }
   ],
   "source": [
    "1/(25*(1/500))"
   ]
  },
  {
   "cell_type": "code",
   "execution_count": 58,
   "metadata": {
    "collapsed": false
   },
   "outputs": [
    {
     "data": {
      "text/plain": [
       "(119496, 32)"
      ]
     },
     "execution_count": 58,
     "metadata": {},
     "output_type": "execute_result"
    }
   ],
   "source": [
    "data.shape"
   ]
  },
  {
   "cell_type": "code",
   "execution_count": 60,
   "metadata": {
    "collapsed": false
   },
   "outputs": [
    {
     "data": {
      "text/plain": [
       "(119496,)"
      ]
     },
     "execution_count": 60,
     "metadata": {},
     "output_type": "execute_result"
    }
   ],
   "source": [
    "np.array(data)[:,1].shape"
   ]
  },
  {
   "cell_type": "code",
   "execution_count": 86,
   "metadata": {
    "collapsed": false
   },
   "outputs": [
    {
     "data": {
      "text/plain": [
       "['Fp2',\n",
       " 'F7',\n",
       " 'F3',\n",
       " 'Fz',\n",
       " 'F4',\n",
       " 'F8',\n",
       " 'FC5',\n",
       " 'FC1',\n",
       " 'FC2',\n",
       " 'FC6',\n",
       " 'T7',\n",
       " 'C3',\n",
       " 'Cz',\n",
       " 'C4',\n",
       " 'T8',\n",
       " 'TP9',\n",
       " 'CP5',\n",
       " 'CP1',\n",
       " 'CP2',\n",
       " 'CP6',\n",
       " 'TP10',\n",
       " 'P7',\n",
       " 'P3',\n",
       " 'Pz',\n",
       " 'P4',\n",
       " 'P8',\n",
       " 'PO9',\n",
       " 'O1',\n",
       " 'Oz',\n",
       " 'O2',\n",
       " 'PO10']"
      ]
     },
     "execution_count": 86,
     "metadata": {},
     "output_type": "execute_result"
    }
   ],
   "source": [
    "list(data.columns[1:])"
   ]
  },
  {
   "cell_type": "code",
   "execution_count": 87,
   "metadata": {
    "collapsed": false
   },
   "outputs": [
    {
     "data": {
      "text/plain": [
       "['Fp1',\n",
       " 'Fp2',\n",
       " 'F7',\n",
       " 'F3',\n",
       " 'Fz',\n",
       " 'F4',\n",
       " 'F8',\n",
       " 'FC5',\n",
       " 'FC1',\n",
       " 'FC2',\n",
       " 'FC6',\n",
       " 'T7',\n",
       " 'C3',\n",
       " 'Cz',\n",
       " 'C4',\n",
       " 'T8',\n",
       " 'TP9',\n",
       " 'CP5',\n",
       " 'CP1',\n",
       " 'CP2',\n",
       " 'CP6',\n",
       " 'TP10',\n",
       " 'P7',\n",
       " 'P3',\n",
       " 'Pz',\n",
       " 'P4',\n",
       " 'P8',\n",
       " 'PO9',\n",
       " 'O1',\n",
       " 'Oz',\n",
       " 'O2',\n",
       " 'PO10']"
      ]
     },
     "execution_count": 87,
     "metadata": {},
     "output_type": "execute_result"
    }
   ],
   "source": [
    "list(data.columns)"
   ]
  },
  {
   "cell_type": "code",
   "execution_count": 109,
   "metadata": {
    "collapsed": false
   },
   "outputs": [
    {
     "ename": "AttributeError",
     "evalue": "'list' object has no attribute 'empty'",
     "output_type": "error",
     "traceback": [
      "\u001b[1;31m---------------------------------------------------------------------------\u001b[0m",
      "\u001b[1;31mAttributeError\u001b[0m                            Traceback (most recent call last)",
      "\u001b[1;32m<ipython-input-109-2867b20d83b7>\u001b[0m in \u001b[0;36m<module>\u001b[1;34m()\u001b[0m\n\u001b[1;32m----> 1\u001b[1;33m \u001b[1;33m[\u001b[0m\u001b[1;33m]\u001b[0m\u001b[1;33m.\u001b[0m\u001b[0mempty\u001b[0m\u001b[1;33m\u001b[0m\u001b[0m\n\u001b[0m",
      "\u001b[1;31mAttributeError\u001b[0m: 'list' object has no attribute 'empty'"
     ]
    }
   ],
   "source": [
    "[].empty"
   ]
  },
  {
   "cell_type": "code",
   "execution_count": 44,
   "metadata": {
    "collapsed": false
   },
   "outputs": [
    {
     "data": {
      "text/plain": [
       "0.5"
      ]
     },
     "execution_count": 44,
     "metadata": {},
     "output_type": "execute_result"
    }
   ],
   "source": [
    "roc_auc_score(labels['HandStart'],np.zeros(len(labels)))"
   ]
  },
  {
   "cell_type": "code",
   "execution_count": 105,
   "metadata": {
    "collapsed": false
   },
   "outputs": [
    {
     "data": {
      "text/plain": [
       "range(9, 10)"
      ]
     },
     "execution_count": 105,
     "metadata": {},
     "output_type": "execute_result"
    }
   ],
   "source": [
    "range(9,10)"
   ]
  },
  {
   "cell_type": "code",
   "execution_count": 110,
   "metadata": {
    "collapsed": false
   },
   "outputs": [
    {
     "name": "stdout",
     "output_type": "stream",
     "text": [
      "9\n",
      "10\n"
     ]
    }
   ],
   "source": [
    "for k in range(9,11):\n",
    "    print(k)"
   ]
  },
  {
   "cell_type": "code",
   "execution_count": null,
   "metadata": {
    "collapsed": true
   },
   "outputs": [],
   "source": []
  }
 ],
 "metadata": {
  "kernelspec": {
   "display_name": "Python 3",
   "language": "python",
   "name": "python3"
  },
  "language_info": {
   "codemirror_mode": {
    "name": "ipython",
    "version": 3
   },
   "file_extension": ".py",
   "mimetype": "text/x-python",
   "name": "python",
   "nbconvert_exporter": "python",
   "pygments_lexer": "ipython3",
   "version": "3.4.0"
  }
 },
 "nbformat": 4,
 "nbformat_minor": 0
}
