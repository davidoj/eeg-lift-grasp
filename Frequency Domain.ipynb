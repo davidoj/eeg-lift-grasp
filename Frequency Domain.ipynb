{
 "cells": [
  {
   "cell_type": "code",
   "execution_count": 2,
   "metadata": {
    "collapsed": false
   },
   "outputs": [],
   "source": [
    "import numpy as np\n",
    "import pandas as pd\n",
    "\n",
    "from sklearn.linear_model import LogisticRegression\n",
    "from sklearn.preprocessing import StandardScaler\n",
    "from sklearn.metrics import roc_auc_score\n",
    "from sklearn.cross_validation import LeaveOneLabelOut\n",
    "\n",
    "from glob import glob\n",
    "\n",
    "from mne.decoding import CSP\n",
    "\n",
    "from preprocessing import *\n",
    "\n",
    "from joblib import Parallel, delayed\n",
    "\n",
    "import pylab as pl\n",
    "%matplotlib inline\n",
    "\n",
    "import os"
   ]
  },
  {
   "cell_type": "code",
   "execution_count": 3,
   "metadata": {
    "collapsed": true
   },
   "outputs": [],
   "source": [
    "\n",
    "def prepare_data_train(fname):\n",
    "    \"\"\" read and prepare training data \"\"\"\n",
    "    # Read data\n",
    "    data = pd.read_csv(fname)\n",
    "    # events file\n",
    "    events_fname = fname.replace('_data','_events')\n",
    "    # read event file\n",
    "    labels= pd.read_csv(events_fname)\n",
    "    clean=data.drop(['id' ], axis=1)#remove id\n",
    "    labels=labels.drop(['id' ], axis=1)#remove id\n",
    "    return  clean,labels\n",
    "\n",
    "def prepare_data_test(fname):\n",
    "    \"\"\" read and prepare test data \"\"\"\n",
    "    # Read data\n",
    "    data = pd.read_csv(fname)\n",
    "    return data\n",
    "\n",
    "\n",
    "\n",
    "def data_preprocess_train(X, events=[], fbands=[], sca=None, cpast=None, bpass=None, \n",
    "                          lpass=None, pca=None, csp_filt=None):\n",
    "    if csp_filt:\n",
    "        fit_CSP(data, csp, events)\n",
    "        X = (csp.filters_[0:nfilters].dot(X.T)).T\n",
    "    X = np.array(X)\n",
    "    if fbands:\n",
    "        X = np.concatenate((X,prepare_freq_bands(X,fbands)),axis=1)\n",
    "    if lpass:\n",
    "        X = butter_lowpass_filter(X,lpass,500)\n",
    "    if sca:\n",
    "        X=scaler.fit_transform(X)\n",
    "    if cpast:\n",
    "        X = concat_past(X,interval=cpast[0],num_past=cpast[1])\n",
    "    return X\n",
    "\n",
    "def data_preprocess_test(X, fbands = [], sca=None, cpast=None, bpass=None, \n",
    "                         lpass=None, pca=None, csp_filt=None):\n",
    "    if csp_filt:\n",
    "        X = (csp.filters_[0:nfilters].dot(X.T)).T\n",
    "    X = np.array(X)\n",
    "    if fbands:\n",
    "        X = np.concatenate((X,prepare_freq_bands(X,fbands)),axis=1)\n",
    "    if lpass:\n",
    "        X = butter_lowpass_filter(X,lpass,500)\n",
    "    if sca:\n",
    "        X=scaler.transform(X)\n",
    "    if cpast:\n",
    "        X = concat_past(X,interval=cpast[0],num_past=cpast[1])\n",
    "    return X\n"
   ]
  },
  {
   "cell_type": "code",
   "execution_count": 107,
   "metadata": {
    "collapsed": false
   },
   "outputs": [],
   "source": [
    "def rms(x, axis=None):\n",
    "    return np.sqrt(np.mean(x**2, axis=axis))\n",
    "\n",
    "def freq_bands(data,bands):\n",
    "    nchans = data.shape[1]\n",
    "    f_band = np.empty((len(data),len(bands)*nchans))\n",
    "    for j, band in enumerate(bands):\n",
    "        f_band[:,nchans*j:nchans*(j+1)] = butter_bandpass_filter(data,band[0],band[1],500)\n",
    "    #for j in range(f_band.shape[1]):\n",
    "        #f_band[:,j] = smooth(f_band[:,j])\n",
    "    return f_band**2\n",
    "\n",
    "def smooth(data,window_len=11,window=\"hamming\"):\n",
    "    if data.ndim != 1:\n",
    "        raise ValueError(\"smooth only accepts 1 dimension arrays.\")\n",
    "   \n",
    "    if data.size < window_len:\n",
    "        raise ValueError(\"Input vector needs to be bigger than window size.\")\n",
    "   \n",
    "   \n",
    "    if window_len<3:\n",
    "        return data\n",
    "   \n",
    "   \n",
    "    if not window in ['flat', 'hanning', 'hamming', 'bartlett', 'blackman']:\n",
    "        raise ValueError(\"Window is on of 'flat', 'hanning', 'hamming', 'bartlett', 'blackman'\")\n",
    "   \n",
    "  \n",
    "    s=np.r_[data[window_len-1:0:-1],data,data[-1:-window_len:-1]]\n",
    "       \n",
    "    if window == 'flat': #moving average\n",
    "        w=np.ones(window_len,'d')\n",
    "    else:\n",
    "        w=eval('np.'+window+'(window_len)')\n",
    "   \n",
    "    y=np.convolve(w/w.sum(),s,mode='valid')\n",
    "    return y[:-window_len+1]\n",
    "\n",
    "def prepare_freq_bands(data,bands):\n",
    "    f = freq_bands(data,bands)\n",
    "    fsmo = np.zeros(f.shape)\n",
    "    for j in range(f.shape[1]):\n",
    "        fsmo[:,j] = smooth(f[:,j],window_len=50)\n",
    "    return f\n",
    "    "
   ]
  },
  {
   "cell_type": "code",
   "execution_count": 20,
   "metadata": {
    "collapsed": false
   },
   "outputs": [],
   "source": [
    "def eval_lr(lr,subj,cpast=[],fbands=[],lpass=None,bpass=None,pca=None,sca=None,csp_filt=None):\n",
    "    fns = glob(\"../train/subj{}_series[1-8]_data.csv\".format(subj))\n",
    "    scores = np.zeros(len(fns))\n",
    "    for i, fn in enumerate(fns):\n",
    "        data, labels = prepare_data_train(fn)\n",
    "        y_test = labels['BothReleased']\n",
    "        if len(cpast)>0:\n",
    "            y_test = y_test[cpast[0]*cpast[1]:]\n",
    "        X_test = data_preprocess_test(data,fbands=fbands,sca=sca,cpast=cpast,bpass=bpass,\n",
    "                                      pca=pca,lpass=lpass,csp_filt=csp_filt)\n",
    "        pred = lr.predict_proba(X_test)[:,1]\n",
    "        \n",
    "        scores[i] = roc_auc_score(y_test,pred)\n",
    "        \n",
    "    return np.average(scores)"
   ]
  },
  {
   "cell_type": "code",
   "execution_count": 102,
   "metadata": {
    "collapsed": false
   },
   "outputs": [],
   "source": [
    "fn, fn2 = \"../train/subj2_series1_data.csv\", \"../train/subj1_series2_data.csv\"\n",
    "data, labels = prepare_data_train(fn)\n",
    "\n",
    "fs = freq_bands(data,bands)\n",
    "fs_smo = np.zeros(fs.shape)\n",
    "for j in range(fs.shape[1]):\n",
    "    fs_smo[:,j] = smooth(fs[:,j],window='flat',window_len=40)"
   ]
  },
  {
   "cell_type": "code",
   "execution_count": 98,
   "metadata": {
    "collapsed": false
   },
   "outputs": [
    {
     "data": {
      "text/plain": [
       "[<matplotlib.lines.Line2D at 0x7f732c369908>]"
      ]
     },
     "execution_count": 98,
     "metadata": {},
     "output_type": "execute_result"
    },
    {
     "data": {
      "image/png": "[encoded data removed]",
      "text/plain": [
       "<matplotlib.figure.Figure at 0x7f732c3697b8>"
      ]
     },
     "metadata": {},
     "output_type": "display_data"
    }
   ],
   "source": [
    "pl.plot(range(1000),fs[:1000,1])\n",
    "pl.plot(range(1000),fs_smo[:1000,1])"
   ]
  },
  {
   "cell_type": "code",
   "execution_count": 99,
   "metadata": {
    "collapsed": false
   },
   "outputs": [
    {
     "data": {
      "text/plain": [
       "[<matplotlib.lines.Line2D at 0x7f732d789828>]"
      ]
     },
     "execution_count": 99,
     "metadata": {},
     "output_type": "execute_result"
    },
    {
     "data": {
      "image/png": "[encoded data removed]",
      "text/plain": [
       "<matplotlib.figure.Figure at 0x7f732d789128>"
      ]
     },
     "metadata": {},
     "output_type": "display_data"
    }
   ],
   "source": [
    "pl.plot(range(1000),fs[:1000,0])\n",
    "pl.plot(range(1000),fs_smo[:1000,0])"
   ]
  },
  {
   "cell_type": "markdown",
   "metadata": {},
   "source": [
    "##Parameters"
   ]
  },
  {
   "cell_type": "code",
   "execution_count": 13,
   "metadata": {
    "collapsed": false
   },
   "outputs": [],
   "source": [
    "fn = \"../train/subj2_series1_data.csv\"\n",
    "data, labels = prepare_data_train(fn)\n",
    "\n",
    "subjects = range(1,13)\n",
    "series = range(1,9)\n",
    "scaler= StandardScaler()\n",
    "nfilters = 8\n",
    "csp = CSP(n_components=nfilters, reg='lws')\n",
    "bands = [[5,10]]\n",
    "subsample = 50\n",
    "cut = 50"
   ]
  },
  {
   "cell_type": "code",
   "execution_count": 21,
   "metadata": {
    "collapsed": false
   },
   "outputs": [
    {
     "name": "stdout",
     "output_type": "stream",
     "text": [
      "subj=1, ser=1, AUC=0.8097535051209639\n",
      "subj=1, ser=2, AUC=0.7996984077375853\n",
      "subj=1, ser=3, AUC=0.771722872745078\n",
      "subj=1, ser=4, AUC=0.8239808514569371\n",
      "subj=1, ser=5, AUC=0.8055170011129487\n",
      "subj=1, ser=6, AUC=0.7683460275926859\n",
      "subj=1, ser=7, AUC=0.8024956892683188\n",
      "subj=1, ser=8, AUC=0.8160311528415716\n",
      "subj=2, ser=1, AUC=0.718143969377659\n",
      "subj=2, ser=2, AUC=0.5038547485091145\n",
      "subj=2, ser=3, AUC=0.7474469620216715\n",
      "subj=2, ser=4, AUC=0.769070951656321\n",
      "subj=2, ser=5, AUC=0.7750707717166844\n",
      "subj=2, ser=6, AUC=0.7930101907963587\n",
      "subj=2, ser=7, AUC=0.7701789887897729\n",
      "subj=2, ser=8, AUC=0.7587305707136314\n",
      "subj=3, ser=1, AUC=0.6223510972438545\n",
      "subj=3, ser=2, AUC=0.6476272942059527\n",
      "subj=3, ser=3, AUC=0.6647951196132416\n",
      "subj=3, ser=4, AUC=0.6409552459934424\n",
      "subj=3, ser=5, AUC=0.6723521489430185\n",
      "subj=3, ser=6, AUC=0.6292707914466685\n",
      "subj=3, ser=7, AUC=0.6440077382176117\n",
      "subj=3, ser=8, AUC=0.6433582976985976\n",
      "subj=4, ser=1, AUC=0.659831851869101\n",
      "subj=4, ser=2, AUC=0.7208107948490439\n",
      "subj=4, ser=3, AUC=0.7020194269141466\n",
      "subj=4, ser=4, AUC=0.74082354174574\n",
      "subj=4, ser=5, AUC=0.7152121822718004\n",
      "subj=4, ser=6, AUC=0.7202002373015643\n",
      "subj=4, ser=7, AUC=0.6961085519959611\n",
      "subj=4, ser=8, AUC=0.6904013069677768\n",
      "subj=5, ser=1, AUC=0.6894556667052988\n",
      "subj=5, ser=2, AUC=0.6468034657499304\n",
      "subj=5, ser=3, AUC=0.7212525156892722\n",
      "subj=5, ser=4, AUC=0.6927566322572121\n",
      "subj=5, ser=5, AUC=0.7318040611912112\n",
      "subj=5, ser=6, AUC=0.6974123392074933\n",
      "subj=5, ser=7, AUC=0.6999958991898366\n",
      "subj=5, ser=8, AUC=0.6756548391544184\n",
      "subj=6, ser=1, AUC=0.827900246140002\n",
      "subj=6, ser=2, AUC=0.7811438570698592\n",
      "subj=6, ser=3, AUC=0.7778378208754632\n",
      "subj=6, ser=4, AUC=0.7992739853807345\n",
      "subj=6, ser=5, AUC=0.8121637050984046\n",
      "subj=6, ser=6, AUC=0.7356791004585719\n",
      "subj=6, ser=7, AUC=0.79186430270701\n",
      "subj=6, ser=8, AUC=0.7729000274714103\n",
      "subj=7, ser=1, AUC=0.7025080297933004\n",
      "subj=7, ser=2, AUC=0.7148235850566516\n",
      "subj=7, ser=3, AUC=0.7501121257954172\n",
      "subj=7, ser=4, AUC=0.7542795489337468\n",
      "subj=7, ser=5, AUC=0.7629956649909415\n",
      "subj=7, ser=6, AUC=0.7511212822669973\n",
      "subj=7, ser=7, AUC=0.7666250407003395\n",
      "subj=7, ser=8, AUC=0.7573259860524637\n",
      "subj=8, ser=1, AUC=0.7228277833504697\n",
      "subj=8, ser=2, AUC=0.712791935651593\n",
      "subj=8, ser=3, AUC=0.6986675678489578\n",
      "subj=8, ser=4, AUC=0.7398467536946007\n",
      "subj=8, ser=5, AUC=0.7413396337199512\n",
      "subj=8, ser=6, AUC=0.7269378720188049\n",
      "subj=8, ser=7, AUC=0.6329098922675788\n",
      "subj=8, ser=8, AUC=0.6979601019738888\n",
      "subj=9, ser=1, AUC=0.7194886572334649\n",
      "subj=9, ser=2, AUC=0.7527553519411327\n",
      "subj=9, ser=3, AUC=0.758849955473361\n",
      "subj=9, ser=4, AUC=0.7079408108453589\n",
      "subj=9, ser=5, AUC=0.7351678049289232\n",
      "subj=9, ser=6, AUC=0.7469306702137708\n",
      "subj=9, ser=7, AUC=0.7460580683619129\n",
      "subj=9, ser=8, AUC=0.7294040400644259\n",
      "subj=10, ser=1, AUC=0.6839256773623452\n",
      "subj=10, ser=2, AUC=0.7020619553567409\n",
      "subj=10, ser=3, AUC=0.6971032695645332\n",
      "subj=10, ser=4, AUC=0.7029135059859801\n",
      "subj=10, ser=5, AUC=0.7244300157157353\n",
      "subj=10, ser=6, AUC=0.7277846363315559\n",
      "subj=10, ser=7, AUC=0.7198362055308012\n",
      "subj=10, ser=8, AUC=0.732246625078922\n",
      "subj=11, ser=1, AUC=0.7071932019150838\n",
      "subj=11, ser=2, AUC=0.6028962926433598\n",
      "subj=11, ser=3, AUC=0.7394506857371327\n",
      "subj=11, ser=4, AUC=0.7327481251613333\n",
      "subj=11, ser=5, AUC=0.6912985024199947\n",
      "subj=11, ser=6, AUC=0.6964147807818575\n",
      "subj=11, ser=7, AUC=0.7039716189517249\n",
      "subj=11, ser=8, AUC=0.6612286064185247\n",
      "subj=12, ser=1, AUC=0.668367482086726\n",
      "subj=12, ser=2, AUC=0.6573669407135763\n",
      "subj=12, ser=3, AUC=0.6566532417051845\n",
      "subj=12, ser=4, AUC=0.6737332412799323\n",
      "subj=12, ser=5, AUC=0.6837113686529757\n",
      "subj=12, ser=6, AUC=0.6893892420296694\n",
      "subj=12, ser=7, AUC=0.6687178835651613\n",
      "subj=12, ser=8, AUC=0.658421793330138\n"
     ]
    }
   ],
   "source": [
    "for subj in subjects:\n",
    "    for ser in series:\n",
    "        fn = \"../train/subj{}_series{}_data.csv\".format(subj,ser)\n",
    "        data, labels = prepare_data_train(fn)\n",
    "        y_train = labels[\"BothReleased\"]\n",
    "        X_train = data_preprocess_train(data,events=labels,sca=1,lpass=5,fbands=bands)\n",
    "        lr1 = LogisticRegression()\n",
    "        lr1.fit(X_train[::subsample],y_train[::subsample])\n",
    "        \n",
    "        print(\"subj={}, ser={}, AUC={}\".format(subj,ser,eval_lr(lr1,subj,sca=1,lpass=5,fbands=bands)))"
   ]
  },
  {
   "cell_type": "code",
   "execution_count": 15,
   "metadata": {
    "collapsed": false
   },
   "outputs": [
    {
     "data": {
      "text/plain": [
       "0.61378474721388421"
      ]
     },
     "execution_count": 15,
     "metadata": {},
     "output_type": "execute_result"
    }
   ],
   "source": [
    "\n",
    "\n",
    "y_train = labels[\"HandStart\"]\n",
    "X_train = data_preprocess_train(data,events=labels,sca=1,lpass=5,fbands=bands)\n",
    "lr1 = LogisticRegression()\n",
    "lr1.fit(X_train[::subsample],y_train[::subsample]) \n",
    "\n",
    "eval_lr(lr1,2,sca=1,lpass=5,fbands=bands)"
   ]
  },
  {
   "cell_type": "code",
   "execution_count": 198,
   "metadata": {
    "collapsed": false
   },
   "outputs": [
    {
     "data": {
      "text/plain": [
       "0.54864078152718576"
      ]
     },
     "execution_count": 198,
     "metadata": {},
     "output_type": "execute_result"
    }
   ],
   "source": [
    "y_train = labels[\"FirstDigitTouch\"]\n",
    "X_train = data_preprocess_train(data,events=labels,sca=1,lpass=3)\n",
    "lr1 = LogisticRegression()\n",
    "lr1.fit(X_train[::subsample],y_train[::subsample]) \n",
    "\n",
    "eval_lr(lr1,sca=1,lpass=3)"
   ]
  },
  {
   "cell_type": "code",
   "execution_count": 161,
   "metadata": {
    "collapsed": true
   },
   "outputs": [],
   "source": [
    "x = np.arange(12).reshape(4,3)"
   ]
  },
  {
   "cell_type": "code",
   "execution_count": 168,
   "metadata": {
    "collapsed": false
   },
   "outputs": [
    {
     "data": {
      "text/plain": [
       "array([[ 0,  1,  2],\n",
       "       [ 3,  4,  5],\n",
       "       [ 6,  7,  8],\n",
       "       [ 9, 10, 11]])"
      ]
     },
     "execution_count": 168,
     "metadata": {},
     "output_type": "execute_result"
    }
   ],
   "source": [
    "x"
   ]
  },
  {
   "cell_type": "code",
   "execution_count": 166,
   "metadata": {
    "collapsed": false
   },
   "outputs": [
    {
     "data": {
      "text/plain": [
       "array([[ 0,  3,  6,  9],\n",
       "       [ 1,  4,  7, 10],\n",
       "       [ 2,  5,  8, 11]])"
      ]
     },
     "execution_count": 166,
     "metadata": {},
     "output_type": "execute_result"
    }
   ],
   "source": [
    "x.T"
   ]
  },
  {
   "cell_type": "code",
   "execution_count": null,
   "metadata": {
    "collapsed": true
   },
   "outputs": [],
   "source": []
  }
 ],
 "metadata": {
  "kernelspec": {
   "display_name": "Python 3",
   "language": "python",
   "name": "python3"
  },
  "language_info": {
   "codemirror_mode": {
    "name": "ipython",
    "version": 3
   },
   "file_extension": ".py",
   "mimetype": "text/x-python",
   "name": "python",
   "nbconvert_exporter": "python",
   "pygments_lexer": "ipython3",
   "version": "3.4.0"
  }
 },
 "nbformat": 4,
 "nbformat_minor": 0
}
